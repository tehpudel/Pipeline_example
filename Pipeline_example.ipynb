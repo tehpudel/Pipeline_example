{
 "cells": [
  {
   "cell_type": "markdown",
   "id": "8b902378-fb44-4254-841b-58c182d3fd46",
   "metadata": {},
   "source": [
    "## Pipeline and column transformer example\n",
    "\n",
    "First i import the libraries I'm going to use in the example."
   ]
  },
  {
   "cell_type": "code",
   "execution_count": 1,
   "id": "959a70d0-efa7-455f-a631-696c23fcb57b",
   "metadata": {},
   "outputs": [],
   "source": [
    "import pandas as pd\n",
    "\n",
    "from sklearn.pipeline import Pipeline\n",
    "from sklearn.preprocessing import MaxAbsScaler\n",
    "from sklearn.preprocessing import OneHotEncoder\n",
    "from sklearn.impute import KNNImputer\n",
    "from sklearn.ensemble import RandomForestClassifier\n",
    "from sklearn.model_selection import cross_validate\n",
    "from sklearn.compose import ColumnTransformer\n",
    "\n",
    "from sklearn.metrics import accuracy_score\n",
    "from sklearn.metrics import f1_score"
   ]
  },
  {
   "cell_type": "markdown",
   "id": "f850a600-fa16-4505-baba-c60db857d69c",
   "metadata": {},
   "source": [
    "First load the data and check the columns and values to get an overview. The data is from a compitition called \"Spaceship Titanic\" found on Kaggle.com"
   ]
  },
  {
   "cell_type": "code",
   "execution_count": 2,
   "id": "7dcbe505-fa20-4dae-ba82-158c052d330d",
   "metadata": {},
   "outputs": [
    {
     "data": {
      "text/html": [
       "<div>\n",
       "<style scoped>\n",
       "    .dataframe tbody tr th:only-of-type {\n",
       "        vertical-align: middle;\n",
       "    }\n",
       "\n",
       "    .dataframe tbody tr th {\n",
       "        vertical-align: top;\n",
       "    }\n",
       "\n",
       "    .dataframe thead th {\n",
       "        text-align: right;\n",
       "    }\n",
       "</style>\n",
       "<table border=\"1\" class=\"dataframe\">\n",
       "  <thead>\n",
       "    <tr style=\"text-align: right;\">\n",
       "      <th></th>\n",
       "      <th>PassengerId</th>\n",
       "      <th>HomePlanet</th>\n",
       "      <th>CryoSleep</th>\n",
       "      <th>Cabin</th>\n",
       "      <th>Destination</th>\n",
       "      <th>Age</th>\n",
       "      <th>VIP</th>\n",
       "      <th>RoomService</th>\n",
       "      <th>FoodCourt</th>\n",
       "      <th>ShoppingMall</th>\n",
       "      <th>Spa</th>\n",
       "      <th>VRDeck</th>\n",
       "      <th>Name</th>\n",
       "      <th>Transported</th>\n",
       "    </tr>\n",
       "  </thead>\n",
       "  <tbody>\n",
       "    <tr>\n",
       "      <th>0</th>\n",
       "      <td>0001_01</td>\n",
       "      <td>Europa</td>\n",
       "      <td>False</td>\n",
       "      <td>B/0/P</td>\n",
       "      <td>TRAPPIST-1e</td>\n",
       "      <td>39.0</td>\n",
       "      <td>False</td>\n",
       "      <td>0.0</td>\n",
       "      <td>0.0</td>\n",
       "      <td>0.0</td>\n",
       "      <td>0.0</td>\n",
       "      <td>0.0</td>\n",
       "      <td>Maham Ofracculy</td>\n",
       "      <td>False</td>\n",
       "    </tr>\n",
       "    <tr>\n",
       "      <th>1</th>\n",
       "      <td>0002_01</td>\n",
       "      <td>Earth</td>\n",
       "      <td>False</td>\n",
       "      <td>F/0/S</td>\n",
       "      <td>TRAPPIST-1e</td>\n",
       "      <td>24.0</td>\n",
       "      <td>False</td>\n",
       "      <td>109.0</td>\n",
       "      <td>9.0</td>\n",
       "      <td>25.0</td>\n",
       "      <td>549.0</td>\n",
       "      <td>44.0</td>\n",
       "      <td>Juanna Vines</td>\n",
       "      <td>True</td>\n",
       "    </tr>\n",
       "    <tr>\n",
       "      <th>2</th>\n",
       "      <td>0003_01</td>\n",
       "      <td>Europa</td>\n",
       "      <td>False</td>\n",
       "      <td>A/0/S</td>\n",
       "      <td>TRAPPIST-1e</td>\n",
       "      <td>58.0</td>\n",
       "      <td>True</td>\n",
       "      <td>43.0</td>\n",
       "      <td>3576.0</td>\n",
       "      <td>0.0</td>\n",
       "      <td>6715.0</td>\n",
       "      <td>49.0</td>\n",
       "      <td>Altark Susent</td>\n",
       "      <td>False</td>\n",
       "    </tr>\n",
       "    <tr>\n",
       "      <th>3</th>\n",
       "      <td>0003_02</td>\n",
       "      <td>Europa</td>\n",
       "      <td>False</td>\n",
       "      <td>A/0/S</td>\n",
       "      <td>TRAPPIST-1e</td>\n",
       "      <td>33.0</td>\n",
       "      <td>False</td>\n",
       "      <td>0.0</td>\n",
       "      <td>1283.0</td>\n",
       "      <td>371.0</td>\n",
       "      <td>3329.0</td>\n",
       "      <td>193.0</td>\n",
       "      <td>Solam Susent</td>\n",
       "      <td>False</td>\n",
       "    </tr>\n",
       "    <tr>\n",
       "      <th>4</th>\n",
       "      <td>0004_01</td>\n",
       "      <td>Earth</td>\n",
       "      <td>False</td>\n",
       "      <td>F/1/S</td>\n",
       "      <td>TRAPPIST-1e</td>\n",
       "      <td>16.0</td>\n",
       "      <td>False</td>\n",
       "      <td>303.0</td>\n",
       "      <td>70.0</td>\n",
       "      <td>151.0</td>\n",
       "      <td>565.0</td>\n",
       "      <td>2.0</td>\n",
       "      <td>Willy Santantines</td>\n",
       "      <td>True</td>\n",
       "    </tr>\n",
       "  </tbody>\n",
       "</table>\n",
       "</div>"
      ],
      "text/plain": [
       "  PassengerId HomePlanet CryoSleep  Cabin  Destination   Age    VIP  \\\n",
       "0     0001_01     Europa     False  B/0/P  TRAPPIST-1e  39.0  False   \n",
       "1     0002_01      Earth     False  F/0/S  TRAPPIST-1e  24.0  False   \n",
       "2     0003_01     Europa     False  A/0/S  TRAPPIST-1e  58.0   True   \n",
       "3     0003_02     Europa     False  A/0/S  TRAPPIST-1e  33.0  False   \n",
       "4     0004_01      Earth     False  F/1/S  TRAPPIST-1e  16.0  False   \n",
       "\n",
       "   RoomService  FoodCourt  ShoppingMall     Spa  VRDeck               Name  \\\n",
       "0          0.0        0.0           0.0     0.0     0.0    Maham Ofracculy   \n",
       "1        109.0        9.0          25.0   549.0    44.0       Juanna Vines   \n",
       "2         43.0     3576.0           0.0  6715.0    49.0      Altark Susent   \n",
       "3          0.0     1283.0         371.0  3329.0   193.0       Solam Susent   \n",
       "4        303.0       70.0         151.0   565.0     2.0  Willy Santantines   \n",
       "\n",
       "   Transported  \n",
       "0        False  \n",
       "1         True  \n",
       "2        False  \n",
       "3        False  \n",
       "4         True  "
      ]
     },
     "execution_count": 2,
     "metadata": {},
     "output_type": "execute_result"
    }
   ],
   "source": [
    "df = pd.read_csv(\"train.csv\")\n",
    "\n",
    "df.head()"
   ]
  },
  {
   "cell_type": "markdown",
   "id": "7b5208c8-a48c-47ee-a036-84515483de72",
   "metadata": {},
   "source": [
    "Next I split the target from the orginal dataframe and saves it separately, I also drop two other features for simplicity's sake in this example."
   ]
  },
  {
   "cell_type": "code",
   "execution_count": 3,
   "id": "711274d9-f247-44c4-8533-0f7b327f7d6d",
   "metadata": {},
   "outputs": [],
   "source": [
    "df_y = df[\"Transported\"]\n",
    "\n",
    "df.drop(\"Transported\", axis=1, inplace=True)\n",
    "df.drop(\"Name\", axis=1, inplace=True)\n",
    "df.drop(\"PassengerId\", axis=1, inplace=True)"
   ]
  },
  {
   "cell_type": "markdown",
   "id": "64257d67-7965-4b4f-ba4d-098473eeb0bb",
   "metadata": {},
   "source": [
    "I then set up some lists that I'm going to use later in the script."
   ]
  },
  {
   "cell_type": "code",
   "execution_count": 4,
   "id": "517b90d1-c183-4536-a22b-33e38a456ef4",
   "metadata": {},
   "outputs": [],
   "source": [
    "scores = [\"accuracy\", \"f1\"]\n",
    "cat_scores = [\"HomePlanet\", \"CryoSleep\", \"Cabin\", \"Destination\", \"VIP\"]\n",
    "num_scores = [\"RoomService\", \"FoodCourt\", \"ShoppingMall\", \"Spa\", \"VRDeck\"]"
   ]
  },
  {
   "cell_type": "markdown",
   "id": "f821bd32-f305-4a40-91ad-f0488b8dfa69",
   "metadata": {},
   "source": [
    "Here is the first example of a pipeline. A pipeline is a class that returns an object specifying the steps that are to be taken and in which order they are to be taken. The parameter is a list where every object on the list has a name and a function. In the example below I specify that the first step, named \"encode\", will use the sci-kit learn OneHotEncoder with it's paramters, the second step is named \"impute\" and will use a KNN imputor etc.\n",
    "\n",
    "I can then enter the entire pipeline in the place where a model would be specified in cross_validates parameters, I also add the target data and what scores I want returned."
   ]
  },
  {
   "cell_type": "code",
   "execution_count": 5,
   "id": "f42ec42c-c76f-4172-bc7c-1580f0bf7d85",
   "metadata": {},
   "outputs": [],
   "source": [
    "pipe_rf = Pipeline([(\"encode\", OneHotEncoder(handle_unknown=\"ignore\", sparse=False)),\n",
    "                   (\"impute\", KNNImputer()),\n",
    "                   (\"scale\", MaxAbsScaler()),\n",
    "                   (\"classify\", RandomForestClassifier(n_jobs=-1))])\n",
    "\n",
    "results = cross_validate(pipe_rf, df, df_y, scoring=scores)"
   ]
  },
  {
   "cell_type": "code",
   "execution_count": 6,
   "id": "a9f2cebf-3e2f-43ba-a123-70da71f608a1",
   "metadata": {},
   "outputs": [
    {
     "name": "stdout",
     "output_type": "stream",
     "text": [
      "[0.73893042 0.73778033 0.73145486 0.75086306 0.75719217]\n",
      "[0.71660424 0.72161172 0.69377049 0.71343481 0.73690773]\n"
     ]
    }
   ],
   "source": [
    "print(results[\"test_accuracy\"])\n",
    "print(results[\"test_f1\"])"
   ]
  },
  {
   "cell_type": "markdown",
   "id": "ebaaeba0-c1e6-4d5b-a1a6-a52423b06f88",
   "metadata": {},
   "source": [
    "The problem with the pipeline above is that it applies all the steps on all the columns. In the case of our example every unique number in the numerical features would get it's own category leading to a bloat of dimensions in the dataset.\n",
    "\n",
    "When we want to apply certain functions to certain specific columns we can use a column transformer. The column transformer is similar to the pipeline in that it takes a number of steps to take but it also has the addition of being able to specify the target of each step. In our case we want several steps to be done to different groups of data, i.e. one set of steps for the numerical features and one set for the categorical features.\n",
    "\n",
    "What we do then is to set up two pipelines with the desired steps for each group. We then use those pipelines as the functions in the column transformer and pastes the lists we created earlier with the names of the numerical and categorical features. We then add the column transformer object in a last pipeline together with the classifier and adds it into the cross_validate function as we did before."
   ]
  },
  {
   "cell_type": "code",
   "execution_count": 7,
   "id": "eab03a04-9309-43b1-9140-33eed73bacdf",
   "metadata": {},
   "outputs": [],
   "source": [
    "num_transformer = Pipeline([(\"num_imputer\", KNNImputer()),\n",
    "                            (\"num_scaler\", MaxAbsScaler())])\n",
    "\n",
    "col_transformer = Pipeline([(\"encoding\", OneHotEncoder(handle_unknown=\"ignore\", sparse=False)),\n",
    "                           (\"imputer\", KNNImputer())])\n",
    "\n",
    "preprocessing = ColumnTransformer([(\"num_cols\", num_transformer, num_scores),\n",
    "                                  (\"cat_cols\", col_transformer, cat_scores)])\n",
    "\n",
    "pipe_rf2 = Pipeline([(\"preprocessing\", preprocessing),\n",
    "                     (\"classifier\", RandomForestClassifier(n_jobs=-1))])\n",
    "\n",
    "results2 = cross_validate(pipe_rf2, df, df_y, scoring=scores)"
   ]
  },
  {
   "cell_type": "code",
   "execution_count": 8,
   "id": "86a8c3de-d7e1-4a12-9cff-7eb25d72a06f",
   "metadata": {},
   "outputs": [
    {
     "name": "stdout",
     "output_type": "stream",
     "text": [
      "[0.78953422 0.78033353 0.7826337  0.79919448 0.79056387]\n",
      "[0.79530201 0.78848283 0.77580071 0.79434296 0.79318182]\n"
     ]
    }
   ],
   "source": [
    "print(results2[\"test_accuracy\"])\n",
    "print(results2[\"test_f1\"])"
   ]
  },
  {
   "cell_type": "markdown",
   "id": "6c93c68a-60fa-42a3-8d48-c471070f2a14",
   "metadata": {},
   "source": [
    "As we can see we were able to increase all scores by using the column transformer. We can also see that the original dataframe is unchanged since all the pipeline steps only used a copy of the dataset. This is useful if we want to try different versions of data in the future."
   ]
  },
  {
   "cell_type": "code",
   "execution_count": 15,
   "id": "6ca82c24-4a59-47ec-9741-b90ac9bc1f29",
   "metadata": {},
   "outputs": [
    {
     "data": {
      "text/html": [
       "<div>\n",
       "<style scoped>\n",
       "    .dataframe tbody tr th:only-of-type {\n",
       "        vertical-align: middle;\n",
       "    }\n",
       "\n",
       "    .dataframe tbody tr th {\n",
       "        vertical-align: top;\n",
       "    }\n",
       "\n",
       "    .dataframe thead th {\n",
       "        text-align: right;\n",
       "    }\n",
       "</style>\n",
       "<table border=\"1\" class=\"dataframe\">\n",
       "  <thead>\n",
       "    <tr style=\"text-align: right;\">\n",
       "      <th></th>\n",
       "      <th>HomePlanet</th>\n",
       "      <th>CryoSleep</th>\n",
       "      <th>Cabin</th>\n",
       "      <th>Destination</th>\n",
       "      <th>Age</th>\n",
       "      <th>VIP</th>\n",
       "      <th>RoomService</th>\n",
       "      <th>FoodCourt</th>\n",
       "      <th>ShoppingMall</th>\n",
       "      <th>Spa</th>\n",
       "      <th>VRDeck</th>\n",
       "    </tr>\n",
       "  </thead>\n",
       "  <tbody>\n",
       "    <tr>\n",
       "      <th>0</th>\n",
       "      <td>Europa</td>\n",
       "      <td>False</td>\n",
       "      <td>B/0/P</td>\n",
       "      <td>TRAPPIST-1e</td>\n",
       "      <td>39.0</td>\n",
       "      <td>False</td>\n",
       "      <td>0.0</td>\n",
       "      <td>0.0</td>\n",
       "      <td>0.0</td>\n",
       "      <td>0.0</td>\n",
       "      <td>0.0</td>\n",
       "    </tr>\n",
       "    <tr>\n",
       "      <th>1</th>\n",
       "      <td>Earth</td>\n",
       "      <td>False</td>\n",
       "      <td>F/0/S</td>\n",
       "      <td>TRAPPIST-1e</td>\n",
       "      <td>24.0</td>\n",
       "      <td>False</td>\n",
       "      <td>109.0</td>\n",
       "      <td>9.0</td>\n",
       "      <td>25.0</td>\n",
       "      <td>549.0</td>\n",
       "      <td>44.0</td>\n",
       "    </tr>\n",
       "    <tr>\n",
       "      <th>2</th>\n",
       "      <td>Europa</td>\n",
       "      <td>False</td>\n",
       "      <td>A/0/S</td>\n",
       "      <td>TRAPPIST-1e</td>\n",
       "      <td>58.0</td>\n",
       "      <td>True</td>\n",
       "      <td>43.0</td>\n",
       "      <td>3576.0</td>\n",
       "      <td>0.0</td>\n",
       "      <td>6715.0</td>\n",
       "      <td>49.0</td>\n",
       "    </tr>\n",
       "    <tr>\n",
       "      <th>3</th>\n",
       "      <td>Europa</td>\n",
       "      <td>False</td>\n",
       "      <td>A/0/S</td>\n",
       "      <td>TRAPPIST-1e</td>\n",
       "      <td>33.0</td>\n",
       "      <td>False</td>\n",
       "      <td>0.0</td>\n",
       "      <td>1283.0</td>\n",
       "      <td>371.0</td>\n",
       "      <td>3329.0</td>\n",
       "      <td>193.0</td>\n",
       "    </tr>\n",
       "    <tr>\n",
       "      <th>4</th>\n",
       "      <td>Earth</td>\n",
       "      <td>False</td>\n",
       "      <td>F/1/S</td>\n",
       "      <td>TRAPPIST-1e</td>\n",
       "      <td>16.0</td>\n",
       "      <td>False</td>\n",
       "      <td>303.0</td>\n",
       "      <td>70.0</td>\n",
       "      <td>151.0</td>\n",
       "      <td>565.0</td>\n",
       "      <td>2.0</td>\n",
       "    </tr>\n",
       "  </tbody>\n",
       "</table>\n",
       "</div>"
      ],
      "text/plain": [
       "  HomePlanet CryoSleep  Cabin  Destination   Age    VIP  RoomService  \\\n",
       "0     Europa     False  B/0/P  TRAPPIST-1e  39.0  False          0.0   \n",
       "1      Earth     False  F/0/S  TRAPPIST-1e  24.0  False        109.0   \n",
       "2     Europa     False  A/0/S  TRAPPIST-1e  58.0   True         43.0   \n",
       "3     Europa     False  A/0/S  TRAPPIST-1e  33.0  False          0.0   \n",
       "4      Earth     False  F/1/S  TRAPPIST-1e  16.0  False        303.0   \n",
       "\n",
       "   FoodCourt  ShoppingMall     Spa  VRDeck  \n",
       "0        0.0           0.0     0.0     0.0  \n",
       "1        9.0          25.0   549.0    44.0  \n",
       "2     3576.0           0.0  6715.0    49.0  \n",
       "3     1283.0         371.0  3329.0   193.0  \n",
       "4       70.0         151.0   565.0     2.0  "
      ]
     },
     "execution_count": 15,
     "metadata": {},
     "output_type": "execute_result"
    }
   ],
   "source": [
    "df.head()"
   ]
  },
  {
   "cell_type": "code",
   "execution_count": null,
   "id": "53f68e7d-5baf-4539-ace9-35617ad417c7",
   "metadata": {},
   "outputs": [],
   "source": []
  }
 ],
 "metadata": {
  "kernelspec": {
   "display_name": "Python 3 (ipykernel)",
   "language": "python",
   "name": "python3"
  },
  "language_info": {
   "codemirror_mode": {
    "name": "ipython",
    "version": 3
   },
   "file_extension": ".py",
   "mimetype": "text/x-python",
   "name": "python",
   "nbconvert_exporter": "python",
   "pygments_lexer": "ipython3",
   "version": "3.8.10"
  }
 },
 "nbformat": 4,
 "nbformat_minor": 5
}
